{
 "cells": [
  {
   "cell_type": "markdown",
   "metadata": {},
   "source": [
    "# Python Collections\n",
    "\n",
    "1. List\n",
    "2. Tuple\n",
    "3. Set\n",
    "4. Dictionary"
   ]
  },
  {
   "cell_type": "markdown",
   "metadata": {},
   "source": [
    "# List\n"
   ]
  },
  {
   "cell_type": "code",
   "execution_count": 20,
   "metadata": {},
   "outputs": [
    {
     "name": "stdout",
     "output_type": "stream",
     "text": [
      "[61, 2, 3, 4, 6, 41]\n",
      "<class 'list'>\n",
      "61\n",
      "[3, 4, 6]\n"
     ]
    }
   ],
   "source": [
    "lst = [61,2,3,4,6,41]\n",
    "print(lst)\n",
    "var = type(lst)\n",
    "print(var)\n",
    "\n",
    "var = lst[0]\n",
    "print(var)\n",
    "\n",
    "var = lst[2:5]\n",
    "print(var)"
   ]
  },
  {
   "cell_type": "code",
   "execution_count": 21,
   "metadata": {},
   "outputs": [
    {
     "name": "stdout",
     "output_type": "stream",
     "text": [
      "32\n",
      "[61, 2, 32, 4, 6, 41]\n"
     ]
    }
   ],
   "source": [
    "lst[2] = 32\n",
    "var = lst[2]\n",
    "print(var)\n",
    "\n",
    "var = lst\n",
    "print(var)"
   ]
  },
  {
   "cell_type": "code",
   "execution_count": 22,
   "metadata": {},
   "outputs": [
    {
     "name": "stdout",
     "output_type": "stream",
     "text": [
      "6\n"
     ]
    }
   ],
   "source": [
    "print(len(lst))"
   ]
  },
  {
   "cell_type": "code",
   "execution_count": 40,
   "metadata": {},
   "outputs": [
    {
     "name": "stdout",
     "output_type": "stream",
     "text": [
      "[61, 2, 3, 4, 6, 41, 200]\n",
      "[61, 100, 2, 3, 4, 6, 41, 200]\n",
      "[61, 100, 2, 3, 4, 6, 41]\n",
      "[61, 100, 2, 3, 4, 6]\n",
      "[61, 100, 3, 4, 6]\n",
      "[]\n"
     ]
    }
   ],
   "source": [
    "lst = [61,2,3,4,6,41]\n",
    "\n",
    "lst.append(200)\n",
    "var = lst\n",
    "print(var)\n",
    "\n",
    "lst.insert(1,100)\n",
    "var = lst\n",
    "print(var)\n",
    "\n",
    "lst.remove(200)\n",
    "var = lst\n",
    "print(var)\n",
    "\n",
    "lst.pop()\n",
    "var = lst\n",
    "print(var)\n",
    "\n",
    "del lst[2]\n",
    "var = lst\n",
    "print(var)\n",
    "\n",
    "# del lst : Will delete the entire list\n",
    "\n",
    "lst.clear()\n",
    "var = lst\n",
    "print(var)"
   ]
  },
  {
   "cell_type": "markdown",
   "metadata": {},
   "source": [
    "# Tuple"
   ]
  },
  {
   "cell_type": "code",
   "execution_count": 52,
   "metadata": {},
   "outputs": [
    {
     "name": "stdout",
     "output_type": "stream",
     "text": [
      "('Sarvesh', 'Naresh', 'Gaurav')\n",
      "<class 'tuple'>\n"
     ]
    }
   ],
   "source": [
    "a = (\"Sarvesh\", \"Naresh\", \"Gaurav\")\n",
    "var = a\n",
    "print(var)\n",
    "\n",
    "var = type(a)\n",
    "print(var)"
   ]
  },
  {
   "cell_type": "code",
   "execution_count": 53,
   "metadata": {},
   "outputs": [
    {
     "ename": "TypeError",
     "evalue": "'tuple' object does not support item assignment",
     "output_type": "error",
     "traceback": [
      "\u001b[1;31m---------------------------------------------------------------------------\u001b[0m",
      "\u001b[1;31mTypeError\u001b[0m                                 Traceback (most recent call last)",
      "\u001b[1;32m<ipython-input-53-73d6b7e32994>\u001b[0m in \u001b[0;36m<module>\u001b[1;34m\u001b[0m\n\u001b[0;32m      1\u001b[0m \u001b[1;31m# tuples are immutable\u001b[0m\u001b[1;33m\u001b[0m\u001b[1;33m\u001b[0m\u001b[1;33m\u001b[0m\u001b[0m\n\u001b[1;32m----> 2\u001b[1;33m \u001b[0ma\u001b[0m\u001b[1;33m[\u001b[0m\u001b[1;36m0\u001b[0m\u001b[1;33m]\u001b[0m \u001b[1;33m=\u001b[0m \u001b[1;34m\"Parth\"\u001b[0m\u001b[1;33m\u001b[0m\u001b[1;33m\u001b[0m\u001b[0m\n\u001b[0m\u001b[0;32m      3\u001b[0m \u001b[1;33m\u001b[0m\u001b[0m\n",
      "\u001b[1;31mTypeError\u001b[0m: 'tuple' object does not support item assignment"
     ]
    }
   ],
   "source": [
    "# tuples are immutable\n",
    "a[0] = \"Parth\""
   ]
  },
  {
   "cell_type": "code",
   "execution_count": 45,
   "metadata": {},
   "outputs": [
    {
     "name": "stdout",
     "output_type": "stream",
     "text": [
      "<class 'list'>\n"
     ]
    }
   ],
   "source": [
    "# Tuples can be converted into Lists and vice-versa.\n",
    "\n",
    "a = list(a)\n",
    "var = type(a)\n",
    "print(var)"
   ]
  },
  {
   "cell_type": "code",
   "execution_count": 54,
   "metadata": {},
   "outputs": [
    {
     "name": "stdout",
     "output_type": "stream",
     "text": [
      "([1, 2, 3], [4, 5, 6])\n"
     ]
    }
   ],
   "source": [
    "# Tuple can contain mutable objects\n",
    "\n",
    "v = ([1,2,3],[4,5,6])\n",
    "print(v)"
   ]
  },
  {
   "cell_type": "code",
   "execution_count": 55,
   "metadata": {},
   "outputs": [
    {
     "name": "stdout",
     "output_type": "stream",
     "text": [
      "(('Sarvesh', 'Naresh', 'Gaurav'), (1, 2, 3))\n"
     ]
    }
   ],
   "source": [
    "# Tuples may be nested\n",
    "\n",
    "t = a,(1,2,3)\n",
    "print(t)"
   ]
  },
  {
   "cell_type": "code",
   "execution_count": 65,
   "metadata": {},
   "outputs": [
    {
     "name": "stdout",
     "output_type": "stream",
     "text": [
      "<class 'tuple'>\n",
      "(1, 2, 'hello!')\n",
      "<class 'tuple'>\n",
      "(1, 2, 'hello!')\n",
      "hello!\n"
     ]
    }
   ],
   "source": [
    "# Tuple packing\n",
    "\n",
    "z = 1,2,'hello!' \n",
    "print(type(z))\n",
    "print(z)\n",
    "\n",
    "# Sequence unpacking\n",
    "\n",
    "n1, n2, n3 = z\n",
    "print(type(z))\n",
    "print(z)\n",
    "print(n3)"
   ]
  },
  {
   "cell_type": "markdown",
   "metadata": {},
   "source": [
    "# Set"
   ]
  },
  {
   "cell_type": "code",
   "execution_count": 76,
   "metadata": {},
   "outputs": [
    {
     "name": "stdout",
     "output_type": "stream",
     "text": [
      "{32, 1, 2, 42, 11, 12, 332, 22, 221, 222}\n"
     ]
    }
   ],
   "source": [
    "s1 = {12,12,11,1,332,2,32,42,221,2,2,222,2,222,22,2}\n",
    "print(s1)"
   ]
  },
  {
   "cell_type": "code",
   "execution_count": 77,
   "metadata": {},
   "outputs": [],
   "source": [
    "# # Adding a single value\n",
    "# s1.add(4444)\n",
    "# print(s1)\n",
    "\n",
    "# # Adding more than one value\n",
    "# s1.update([1,3,221,21,2,3,32,3,2332,3])\n",
    "# print(s1)"
   ]
  },
  {
   "cell_type": "code",
   "execution_count": 78,
   "metadata": {},
   "outputs": [
    {
     "name": "stdout",
     "output_type": "stream",
     "text": [
      "10\n"
     ]
    }
   ],
   "source": [
    "print(len(s1))"
   ]
  },
  {
   "cell_type": "code",
   "execution_count": 90,
   "metadata": {},
   "outputs": [
    {
     "name": "stdout",
     "output_type": "stream",
     "text": [
      "{32, 2, 42, 11, 12, 332, 22, 221, 222}\n"
     ]
    }
   ],
   "source": [
    "s1 = {12,12,11,1,332,2,32,42,221,2,2,222,2,222,22,2}\n",
    "\n",
    "s1.remove(1)\n",
    "print(s1)\n",
    "\n",
    "# s1.remove(1666) # Error : Does not belong to set\n",
    "# print(s1)"
   ]
  },
  {
   "cell_type": "code",
   "execution_count": 91,
   "metadata": {},
   "outputs": [
    {
     "name": "stdout",
     "output_type": "stream",
     "text": [
      "{32, 1, 2, 42, 11, 12, 332, 22, 221, 222}\n",
      "{32, 2, 42, 11, 12, 332, 22, 221, 222}\n",
      "{32, 2, 42, 11, 12, 332, 22, 221, 222}\n"
     ]
    }
   ],
   "source": [
    "s1 = {12,12,11,1,332,2,32,42,221,2,2,222,2,222,22,2}\n",
    "\n",
    "print(s1)\n",
    "s1.discard(1)\n",
    "print(s1)\n",
    "\n",
    "s1.discard(1666) # No error display despite of entering a value not present in set.\n",
    "print(s1)"
   ]
  },
  {
   "cell_type": "code",
   "execution_count": 4,
   "metadata": {},
   "outputs": [
    {
     "name": "stdout",
     "output_type": "stream",
     "text": [
      "{32, 1, 2, 42, 11, 12, 332, 22, 221, 222}\n",
      "{1, 2, 42, 11, 12, 332, 22, 221, 222}\n",
      "set()\n"
     ]
    }
   ],
   "source": [
    "s1 = {12,12,11,1,332,2,32,42,221,2,2,222,2,222,22,2}\n",
    "print(s1)\n",
    "\n",
    "s1.pop() # Delete values from left hand side\n",
    "print(s1)\n",
    "\n",
    "# s1.clear() # Clears the set.\n",
    "# print(s1)\n"
   ]
  },
  {
   "cell_type": "code",
   "execution_count": 3,
   "metadata": {},
   "outputs": [
    {
     "name": "stdout",
     "output_type": "stream",
     "text": [
      "{'a', 'c', 'b', 'r', 'd'}\n",
      "{'l', 'a', 'c', 'm', 'z'}\n",
      "{'r', 'b', 'd'}\n",
      "{'l', 'a', 'c', 'b', 'r', 'm', 'd', 'z'}\n",
      "{'a', 'c'}\n",
      "{'m', 'l', 'r', 'd', 'z', 'b'}\n"
     ]
    }
   ],
   "source": [
    "a = set('abracadabra') # creating set using set() function\n",
    "b = set('alacazam')\n",
    "\n",
    "print(a)\n",
    "print(b)\n",
    "print(a - b) # Letters in a but not in b.\n",
    "print(a | b) # Letters in a or b or both(union).\n",
    "print(a & b) # Letters in both a and b(intersection).\n",
    "print(a ^ b) # Letters in a or b but not both."
   ]
  },
  {
   "cell_type": "markdown",
   "metadata": {},
   "source": [
    "# Dictionary\n"
   ]
  },
  {
   "cell_type": "code",
   "execution_count": 16,
   "metadata": {},
   "outputs": [
    {
     "name": "stdout",
     "output_type": "stream",
     "text": [
      "{'Name': 'Sarvesh', 'Marks': 32.32, 'Age': 21}\n",
      "{'Name': 'Sarvesh', 'Marks': 36, 'Age': 21}\n",
      "{'Name': 'Sarvesh', 'Marks': 36, 'Age': 21, 'Roll No.': 19326}\n",
      "{'Name': 'Sarvesh', 'Age': 21, 'Roll No.': 19326}\n",
      "{'Name': 'Sarvesh', 'Roll No.': 19326}\n"
     ]
    },
    {
     "data": {
      "text/plain": [
       "['Name', 'Roll No.']"
      ]
     },
     "execution_count": 16,
     "metadata": {},
     "output_type": "execute_result"
    }
   ],
   "source": [
    "sarvoDict = {\n",
    "    \"Name\": \"Sarvesh\",\n",
    "    \"Marks\": 32.32,\n",
    "    \"Age\": 21\n",
    "}\n",
    "\n",
    "print(sarvoDict)\n",
    "\n",
    "sarvoDict[\"Marks\"] = 36\n",
    "print(sarvoDict)\n",
    "\n",
    "sarvoDict[\"Roll No.\"] = 19326\n",
    "print(sarvoDict)\n",
    "\n",
    "del sarvoDict[\"Marks\"]\n",
    "print(sarvoDict)\n",
    "\n",
    "sarvoDict.pop(\"Age\")\n",
    "print(sarvoDict)\n",
    "\n",
    "list(sarvoDict)\n",
    "\n",
    "sorted(sarvoDict)"
   ]
  },
  {
   "cell_type": "code",
   "execution_count": 20,
   "metadata": {},
   "outputs": [
    {
     "name": "stdout",
     "output_type": "stream",
     "text": [
      "{'a': 1, 'b': 12, 'c': 123}\n",
      "{'sape': 4139, 'guido': 4127, 'jack': 4098}\n"
     ]
    }
   ],
   "source": [
    "# Dictionary using dict()\n",
    "\n",
    "print( dict([('a',1),('b',12),('c',123)]) )\n",
    "\n",
    "# When the keys are simple strings, it is sometimes easier to specify pairs using keyword arguments.\n",
    "\n",
    "print( dict(sape=4139, guido=4127, jack=4098) )"
   ]
  },
  {
   "cell_type": "code",
   "execution_count": 21,
   "metadata": {},
   "outputs": [
    {
     "data": {
      "text/plain": [
       "{1: 1, 2: 4, 3: 9}"
      ]
     },
     "execution_count": 21,
     "metadata": {},
     "output_type": "execute_result"
    }
   ],
   "source": [
    "# dict comprehensions can be used to create dictionaries from arbitrary key and value expressions.\n",
    "\n",
    "{x: x**2 for x in (1,2,3)}"
   ]
  }
 ],
 "metadata": {
  "kernelspec": {
   "display_name": "Python 3",
   "language": "python",
   "name": "python3"
  },
  "language_info": {
   "codemirror_mode": {
    "name": "ipython",
    "version": 3
   },
   "file_extension": ".py",
   "mimetype": "text/x-python",
   "name": "python",
   "nbconvert_exporter": "python",
   "pygments_lexer": "ipython3",
   "version": "3.8.5"
  }
 },
 "nbformat": 4,
 "nbformat_minor": 4
}
