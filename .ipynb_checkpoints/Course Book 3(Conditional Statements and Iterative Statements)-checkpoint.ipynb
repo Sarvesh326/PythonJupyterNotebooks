{
 "cells": [
  {
   "cell_type": "markdown",
   "metadata": {},
   "source": [
    "# If/Elif/Else"
   ]
  },
  {
   "cell_type": "code",
   "execution_count": 6,
   "metadata": {},
   "outputs": [
    {
     "name": "stdout",
     "output_type": "stream",
     "text": [
      "Enter your age\n",
      "18\n",
      "you are awesome\n"
     ]
    }
   ],
   "source": [
    "age = input(\"Enter your age\\n\")\n",
    "age = int(age)     # Input function takes every input as string type. Type-casting important.\n",
    "\n",
    "if(age>18):\n",
    "    print(\"you can drive a car\")\n",
    "elif(age==18):\n",
    "    print(\"you are awesome\")\n",
    "else:\n",
    "    print(\"you cannot drive a car\")"
   ]
  },
  {
   "cell_type": "markdown",
   "metadata": {},
   "source": [
    "# Loops\n",
    "\n",
    "**For Loop**"
   ]
  },
  {
   "cell_type": "code",
   "execution_count": 11,
   "metadata": {},
   "outputs": [
    {
     "name": "stdout",
     "output_type": "stream",
     "text": [
      "0\n",
      "1\n",
      "2\n",
      "3\n",
      "4\n",
      "5\n",
      "6\n",
      "7\n",
      "8\n",
      "9\n"
     ]
    }
   ],
   "source": [
    "# print integer values from 1 to 10.\n",
    "\n",
    "for i in range(0,10):\n",
    "    print(i)"
   ]
  },
  {
   "cell_type": "code",
   "execution_count": 13,
   "metadata": {},
   "outputs": [
    {
     "name": "stdout",
     "output_type": "stream",
     "text": [
      "1\n",
      "23\n",
      "23.2\n",
      "Hello\n"
     ]
    }
   ],
   "source": [
    "li = [1,23,23.2,'Hello']\n",
    "for item in li:\n",
    "    print(item)"
   ]
  },
  {
   "cell_type": "code",
   "execution_count": 14,
   "metadata": {},
   "outputs": [
    {
     "name": "stdout",
     "output_type": "stream",
     "text": [
      "a for apple\n",
      "b for ball\n",
      "c for cat\n"
     ]
    }
   ],
   "source": [
    "# Use of loop to iterate dictionary, set and tuples.\n",
    "\n",
    "Dict = {\"a for\": \"apple\", \"b for\": \"ball\", \"c for\": \"cat\"}\n",
    "for key,value in Dict.items():\n",
    "    print(key,value)"
   ]
  },
  {
   "cell_type": "code",
   "execution_count": 18,
   "metadata": {},
   "outputs": [
    {
     "name": "stdout",
     "output_type": "stream",
     "text": [
      "f\n",
      "i\n",
      "d\n",
      "s\n",
      "h\n",
      "S\n",
      "u\n",
      "\n",
      "1\n",
      "2\n",
      "3\n",
      "21\n",
      "23\n"
     ]
    }
   ],
   "source": [
    "# Set\n",
    "a = set(\"Shdfduisf\")\n",
    "b = {1,2,3,21,21,23}\n",
    "for i in a:\n",
    "    print(i)\n",
    "print()\n",
    "for i in b:\n",
    "    print(i)"
   ]
  },
  {
   "cell_type": "code",
   "execution_count": 19,
   "metadata": {},
   "outputs": [
    {
     "name": "stdout",
     "output_type": "stream",
     "text": [
      "Sarvesh\n",
      "Naresh\n",
      "23\n",
      "12.2\n"
     ]
    }
   ],
   "source": [
    "# Tuple\n",
    "t = ('Sarvesh','Naresh',23,12.2)\n",
    "for i in t:\n",
    "    print(i)"
   ]
  },
  {
   "cell_type": "code",
   "execution_count": 20,
   "metadata": {},
   "outputs": [
    {
     "name": "stdout",
     "output_type": "stream",
     "text": [
      "0 One\n",
      "1 Two\n",
      "2 Three\n"
     ]
    }
   ],
   "source": [
    "# When looping through a sequence, the position index and corresponding value can be retrieved at the same time using the\n",
    "# enumerate() function.\n",
    "\n",
    "for i,v in enumerate(['One','Two','Three']):\n",
    "    print(i,v)"
   ]
  },
  {
   "cell_type": "code",
   "execution_count": 23,
   "metadata": {},
   "outputs": [
    {
     "name": "stdout",
     "output_type": "stream",
     "text": [
      "What is your name ? It is lancelot.\n",
      "What is your quest ? It is the holy grail.\n",
      "What is your favorite color ? It is blue.\n"
     ]
    }
   ],
   "source": [
    "# To loop over two or more sequences at the same time, the entries can be paired with the zip() function.\n",
    "\n",
    "Ques = ['name', 'quest', 'favorite color']\n",
    "Ans = ['lancelot', 'the holy grail', 'blue']\n",
    "\n",
    "for q,a in zip(Ques,Ans):\n",
    "    print(\"What is your {} ? It is {}.\".format(q,a))"
   ]
  },
  {
   "cell_type": "markdown",
   "metadata": {},
   "source": [
    "**While Loop**"
   ]
  },
  {
   "cell_type": "code",
   "execution_count": 24,
   "metadata": {},
   "outputs": [
    {
     "name": "stdout",
     "output_type": "stream",
     "text": [
      "0\n",
      "1\n",
      "2\n",
      "3\n",
      "4\n",
      "5\n",
      "6\n",
      "7\n",
      "8\n",
      "9\n"
     ]
    }
   ],
   "source": [
    "i = 0\n",
    "while(i<10):\n",
    "    print(i)\n",
    "    i = i + 1"
   ]
  },
  {
   "cell_type": "code",
   "execution_count": 26,
   "metadata": {},
   "outputs": [
    {
     "name": "stdout",
     "output_type": "stream",
     "text": [
      "0\n",
      "1\n",
      "2\n",
      "3\n",
      "4\n",
      "5\n",
      "6\n",
      "7\n",
      "\n",
      "1\n",
      "2\n",
      "3\n",
      "4\n",
      "5\n",
      "6\n",
      "8\n",
      "9\n",
      "10\n"
     ]
    }
   ],
   "source": [
    "# Break and Continue\n",
    "\n",
    "i = 0\n",
    "while(i<10):\n",
    "    print(i)\n",
    "    if(i==7):\n",
    "        break\n",
    "    i = i + 1\n",
    "print()\n",
    "i = 0\n",
    "while(i<10):\n",
    "    i = i + 1\n",
    "    if(i==7):\n",
    "        continue\n",
    "    print(i)\n"
   ]
  }
 ],
 "metadata": {
  "kernelspec": {
   "display_name": "Python 3",
   "language": "python",
   "name": "python3"
  },
  "language_info": {
   "codemirror_mode": {
    "name": "ipython",
    "version": 3
   },
   "file_extension": ".py",
   "mimetype": "text/x-python",
   "name": "python",
   "nbconvert_exporter": "python",
   "pygments_lexer": "ipython3",
   "version": "3.8.5"
  }
 },
 "nbformat": 4,
 "nbformat_minor": 4
}
