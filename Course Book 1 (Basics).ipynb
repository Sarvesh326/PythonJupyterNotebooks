{
 "cells": [
  {
   "cell_type": "markdown",
   "metadata": {},
   "source": [
    "# Hello World and Import "
   ]
  },
  {
   "cell_type": "code",
   "execution_count": 2,
   "metadata": {},
   "outputs": [
    {
     "name": "stdout",
     "output_type": "stream",
     "text": [
      "hello world\n",
      "\n",
      "13\n",
      "3\n"
     ]
    }
   ],
   "source": [
    "import math\n",
    "print(\"hello world\\n\")\n",
    "print(5+8)\n",
    "\n",
    "print(math.gcd(3,6))"
   ]
  },
  {
   "cell_type": "markdown",
   "metadata": {},
   "source": [
    "# Basic Arithmatic"
   ]
  },
  {
   "cell_type": "code",
   "execution_count": 58,
   "metadata": {},
   "outputs": [
    {
     "name": "stdout",
     "output_type": "stream",
     "text": [
      "37\n",
      "31\n",
      "102\n",
      "11.333333333333334\n",
      "39304\n",
      "11\n",
      "1\n"
     ]
    }
   ],
   "source": [
    "a = 34\n",
    "b = \"harry\"\n",
    "c = 34.32\n",
    "d = 3\n",
    "\n",
    "print(a+d)\n",
    "print(a-d)\n",
    "print(a*d)\n",
    "print(a/d)\n",
    "\n",
    "# ** Exponention operator\n",
    "print(a ** d)\n",
    "\n",
    "# // Floor division opertor\n",
    "print(a // d)\n",
    "\n",
    "# % Modulo operator\n",
    "print(a % d)"
   ]
  },
  {
   "cell_type": "markdown",
   "metadata": {},
   "source": [
    "# Wrong Syntax\n",
    "\n",
    "harry project = 45\n",
    "\n",
    "**Rules for creating variables**\n",
    "\n",
    "1. variables should start with a letter or an underscore\n",
    "2. variable cannot start with a number\n",
    "3. It can only contain alpha numeric characters\n",
    "4. variable names are case sensitive."
   ]
  },
  {
   "cell_type": "markdown",
   "metadata": {},
   "source": [
    "# Type Function"
   ]
  },
  {
   "cell_type": "code",
   "execution_count": 6,
   "metadata": {},
   "outputs": [
    {
     "name": "stdout",
     "output_type": "stream",
     "text": [
      "<class 'str'>\n",
      "<class 'float'>\n",
      "5.140000000000001\n"
     ]
    }
   ],
   "source": [
    "typea = type(a)\n",
    "typeb = type(b)\n",
    "print(typeb)\n",
    "\n",
    "\n",
    "e = 31\n",
    "e = 3.14\n",
    "print(type(e))\n",
    "print(e+2)"
   ]
  },
  {
   "cell_type": "markdown",
   "metadata": {},
   "source": [
    "# Typecasting"
   ]
  },
  {
   "cell_type": "code",
   "execution_count": 9,
   "metadata": {},
   "outputs": [
    {
     "name": "stdout",
     "output_type": "stream",
     "text": [
      "<class 'int'>\n",
      "35\n"
     ]
    }
   ],
   "source": [
    "e = \"31\"\n",
    "e = int(e)\n",
    "print(type(e))\n",
    "print(e+4)\n",
    "\n",
    "# Error will occur in the following\n",
    "# e = \"31u\"\n",
    "# e = int(e)\n",
    "# print(type(e))\n",
    "# print(e+4)"
   ]
  },
  {
   "cell_type": "code",
   "execution_count": 13,
   "metadata": {},
   "outputs": [
    {
     "name": "stdout",
     "output_type": "stream",
     "text": [
      "45\n",
      "<class 'int'>\n"
     ]
    }
   ],
   "source": [
    "e = str(455)\n",
    "\n",
    "print(e)\n",
    "print(type(e))"
   ]
  },
  {
   "cell_type": "markdown",
   "metadata": {},
   "source": [
    "# Practice\n"
   ]
  },
  {
   "cell_type": "code",
   "execution_count": 14,
   "metadata": {},
   "outputs": [
    {
     "name": "stdout",
     "output_type": "stream",
     "text": [
      "<class 'int'>\n",
      "23\n",
      "<class 'float'>\n",
      "23.0\n"
     ]
    }
   ],
   "source": [
    "string = \"23\"\n",
    "string = int(string)\n",
    "print(type(string))\n",
    "print(string)\n",
    "\n",
    "string = float(string)\n",
    "print(type(string))\n",
    "print(string)"
   ]
  },
  {
   "cell_type": "markdown",
   "metadata": {},
   "source": [
    "# Strings"
   ]
  },
  {
   "cell_type": "code",
   "execution_count": 17,
   "metadata": {},
   "outputs": [
    {
     "ename": "SyntaxError",
     "evalue": "EOL while scanning string literal (<ipython-input-17-36ead13e1c23>, line 1)",
     "output_type": "error",
     "traceback": [
      "\u001b[1;36m  File \u001b[1;32m\"<ipython-input-17-36ead13e1c23>\"\u001b[1;36m, line \u001b[1;32m1\u001b[0m\n\u001b[1;33m    name = \"Sarvesh\u001b[0m\n\u001b[1;37m                   ^\u001b[0m\n\u001b[1;31mSyntaxError\u001b[0m\u001b[1;31m:\u001b[0m EOL while scanning string literal\n"
     ]
    }
   ],
   "source": [
    "name = \"Sarvesh\n",
    "is a learning python\"\n",
    "print(name)"
   ]
  },
  {
   "cell_type": "code",
   "execution_count": 18,
   "metadata": {},
   "outputs": [
    {
     "name": "stdout",
     "output_type": "stream",
     "text": [
      "Sarvesh\n",
      "is learning python\n"
     ]
    }
   ],
   "source": [
    "name = '''Sarvesh\n",
    "is learning python'''\n",
    "print(name)"
   ]
  },
  {
   "cell_type": "code",
   "execution_count": 25,
   "metadata": {},
   "outputs": [
    {
     "name": "stdout",
     "output_type": "stream",
     "text": [
      "S\n",
      "a\n",
      "rve\n",
      "rvesh\n",
      "Sarv\n"
     ]
    }
   ],
   "source": [
    "name = \"Sarvesh\"\n",
    "print(name[0])\n",
    "print(name[1])\n",
    "\n",
    "# print(name[10]) Error : index out of range\n",
    "\n",
    "print(name[2:5])\n",
    "print(name[2:])\n",
    "print(name[:4])"
   ]
  },
  {
   "cell_type": "markdown",
   "metadata": {},
   "source": [
    "# Stripping"
   ]
  },
  {
   "cell_type": "code",
   "execution_count": 27,
   "metadata": {},
   "outputs": [
    {
     "name": "stdout",
     "output_type": "stream",
     "text": [
      "   Sarvesh   \n",
      "Sarvesh\n"
     ]
    }
   ],
   "source": [
    "name1 = \"   Sarvesh   \"\n",
    "print(name1)\n",
    "print(name1.strip())"
   ]
  },
  {
   "cell_type": "markdown",
   "metadata": {},
   "source": [
    "# Length of String"
   ]
  },
  {
   "cell_type": "code",
   "execution_count": 29,
   "metadata": {},
   "outputs": [
    {
     "name": "stdout",
     "output_type": "stream",
     "text": [
      "7\n",
      "13\n"
     ]
    }
   ],
   "source": [
    "print(len(name))\n",
    "print(len(name1))"
   ]
  },
  {
   "cell_type": "markdown",
   "metadata": {},
   "source": [
    "# Uppercase, Lowercase, Replace"
   ]
  },
  {
   "cell_type": "code",
   "execution_count": 30,
   "metadata": {},
   "outputs": [
    {
     "name": "stdout",
     "output_type": "stream",
     "text": [
      "sarvesh\n"
     ]
    }
   ],
   "source": [
    "var = name.lower()\n",
    "print(var)"
   ]
  },
  {
   "cell_type": "code",
   "execution_count": 31,
   "metadata": {},
   "outputs": [
    {
     "name": "stdout",
     "output_type": "stream",
     "text": [
      "SARVESH\n"
     ]
    }
   ],
   "source": [
    "var = name.upper()\n",
    "print(var)"
   ]
  },
  {
   "cell_type": "code",
   "execution_count": 36,
   "metadata": {},
   "outputs": [
    {
     "name": "stdout",
     "output_type": "stream",
     "text": [
      "Sarssssh \n",
      "\n",
      "Sarvesh\n",
      "Gaurav\n",
      "Naresh\n"
     ]
    }
   ],
   "source": [
    "var = name.replace('ve','sss')\n",
    "print(var,\"\\n\")\n",
    "\n",
    "var1 = \"Sarvesh, Gaurav, Naresh\"\n",
    "var = var1.replace(\", \",\"\\n\")\n",
    "print(var)"
   ]
  },
  {
   "cell_type": "markdown",
   "metadata": {},
   "source": [
    "# Joining two strings"
   ]
  },
  {
   "cell_type": "code",
   "execution_count": 38,
   "metadata": {},
   "outputs": [
    {
     "name": "stdout",
     "output_type": "stream",
     "text": [
      "This is a Pyhton Tutorial\n"
     ]
    }
   ],
   "source": [
    "stri = \"This is a \"\n",
    "stri2 = \"Pyhton Tutorial\"\n",
    "\n",
    "print(stri + stri2)\n"
   ]
  },
  {
   "cell_type": "code",
   "execution_count": 41,
   "metadata": {},
   "outputs": [
    {
     "name": "stdout",
     "output_type": "stream",
     "text": [
      "Sarvesh is a B.tech student and he is studying Python.\n"
     ]
    }
   ],
   "source": [
    "# template creation\n",
    "\n",
    "name1 = \"Sarvesh\" \n",
    "name2 = \"Python\"\n",
    "\n",
    "string = \"{} is a B.tech student and he is studying {}.\".format(name1,name2)\n",
    "print(string)"
   ]
  },
  {
   "cell_type": "code",
   "execution_count": 55,
   "metadata": {},
   "outputs": [
    {
     "name": "stdout",
     "output_type": "stream",
     "text": [
      "hello hallooo Adios!\n",
      "hello hallooo Adios!\n",
      "hello Adios! hallooo\n",
      "hallooo hallooo hello\n"
     ]
    }
   ],
   "source": [
    "# template creation 2\n",
    "\n",
    "s1 = \"hello\"\n",
    "s2 = \"hallooo\"\n",
    "s3 = \"Adios!\"\n",
    "\n",
    "s4 = \"{} {} {}\".format(s1,s2,s3)\n",
    "print(s4)\n",
    "\n",
    "s4 = \"{0} {1} {2}\".format(s1,s2,s3)\n",
    "print(s4)\n",
    "\n",
    "s4 = \"{0} {2} {1}\".format(s1,s2,s3)\n",
    "print(s4)\n",
    "\n",
    "s4 = \"{1} {1} {0}\".format(s1,s2,s3)\n",
    "print(s4)\n",
    "\n",
    "# s4 = \"{1} {0} {}\".format(s1,s2,s3)  Error: cannot switch from manual field specification to automatic field numbering"
   ]
  },
  {
   "cell_type": "code",
   "execution_count": 57,
   "metadata": {},
   "outputs": [
    {
     "name": "stdout",
     "output_type": "stream",
     "text": [
      "Python is a B.tech student and he is studying Sarvesh.\n"
     ]
    }
   ],
   "source": [
    "name1 = \"Sarvesh\" \n",
    "name2 = \"Python\"\n",
    "\n",
    "string = f\"{name2} is a B.tech student and he is studying {name1}.\"\n",
    "print(string)"
   ]
  }
 ],
 "metadata": {
  "kernelspec": {
   "display_name": "Python 3",
   "language": "python",
   "name": "python3"
  },
  "language_info": {
   "codemirror_mode": {
    "name": "ipython",
    "version": 3
   },
   "file_extension": ".py",
   "mimetype": "text/x-python",
   "name": "python",
   "nbconvert_exporter": "python",
   "pygments_lexer": "ipython3",
   "version": "3.8.5"
  }
 },
 "nbformat": 4,
 "nbformat_minor": 4
}
